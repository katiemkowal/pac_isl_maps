{
 "cells": [
  {
   "cell_type": "markdown",
   "id": "a0a20f40-dba1-4317-908a-a39cfe268657",
   "metadata": {},
   "source": [
    "# Notebook to Test mltrain Environment Installed Correctly\n",
    "Make sure you have activated your intdesk_train python environment first prior to running the cells in this notebook to test whether it installed correctly"
   ]
  },
  {
   "cell_type": "markdown",
   "id": "dc7891d9-628d-4842-829a-ee426ed32eb7",
   "metadata": {},
   "source": [
    "## Libraries"
   ]
  },
  {
   "cell_type": "code",
   "execution_count": 7,
   "id": "3e457ebf-7a0d-41f6-938b-c9c5c7887da0",
   "metadata": {},
   "outputs": [],
   "source": [
    "import numpy as np\n",
    "import matplotlib \n",
    "import sklearn\n",
    "import pandas as pd\n",
    "import tensorflow as tf\n",
    "import keras\n",
    "import folium\n",
    "import xarray as xr\n",
    "import cartopy\n",
    "import netCDF4"
   ]
  }
 ],
 "metadata": {
  "kernelspec": {
   "display_name": "ml_train",
   "language": "python",
   "name": "ml_train"
  },
  "language_info": {
   "codemirror_mode": {
    "name": "ipython",
    "version": 3
   },
   "file_extension": ".py",
   "mimetype": "text/x-python",
   "name": "python",
   "nbconvert_exporter": "python",
   "pygments_lexer": "ipython3",
   "version": "3.9.13"
  }
 },
 "nbformat": 4,
 "nbformat_minor": 5
}
