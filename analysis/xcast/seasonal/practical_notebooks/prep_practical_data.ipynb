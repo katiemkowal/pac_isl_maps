{
 "cells": [
  {
   "cell_type": "code",
   "execution_count": 1,
   "id": "55ddebc7-9e8f-4ab9-aafe-59ba6e0f5cda",
   "metadata": {},
   "outputs": [],
   "source": [
    "import xcast as xc\n",
    "import datetime as dt\n",
    "import numpy as np\n",
    "from pathlib import Path\n",
    "import xarray as xr\n",
    "import os\n",
    "import time\n",
    "import cartopy.crs as ccrs\n",
    "import cartopy.feature as cf\n",
    "import matplotlib.pyplot as plt\n",
    "import glob\n",
    "\n",
    "import practical_helper_functions as helper\n",
    "\n",
    "# automatically reloads the configuration file once updated and saved so you don't have to restart the kernel\n",
    "%load_ext autoreload\n",
    "%autoreload 2"
   ]
  },
  {
   "cell_type": "code",
   "execution_count": 2,
   "id": "b302ba79-00e5-4365-aa59-7556eaa30584",
   "metadata": {},
   "outputs": [],
   "source": [
    "# setup the folder where you want to work for this project\n",
    "# either type in the location, or place this notebook in the folder where you want your project to live and set project_dir = os.getcwd()\n",
    "project_dir = os.getcwd()#\"/Users/katie/Desktop/trial_pacisl\" \n",
    "\n",
    "#make subdirectores to organize your work within the project if they don't already exist\n",
    "practical_data_dir = os.path.join(project_dir, 'practical_data/nc_files')\n",
    "nmme_nc_dir = '/cpc/int_desk/pac_isl/data/processed/nmme/nc_files'\n",
    "cmorph_nc_dir = '/cpc/int_desk/pac_isl/data/processed/cmorph/nc_files'\n",
    "chirps_nc_dir = '/cpc/int_desk/pac_isl/data/processed/chirps/nc_files'"
   ]
  },
  {
   "cell_type": "code",
   "execution_count": 3,
   "id": "88b93065-73d8-49e9-a7a1-ef249a632e10",
   "metadata": {},
   "outputs": [],
   "source": [
    "initial_dates = [(2023, 7,1), (2023, 8, 1), (2023, 9, 1), (2023, 10, 1), (2023, 11,1), (2023, 12,1),\n",
    "                 (2024, 1, 1), (2024, 2, 1), (2024, 3, 1), (2024, 4, 1), (2024, 5, 1), (2024, 6, 1)]\n",
    "\n",
    "gcms = ['NMME']\n",
    "\n",
    "#predictor extent, zone over which you want to train your model\n",
    "predictor_extent = {\n",
    "        'west':  135,\n",
    "        'east': 200,  \n",
    "        'north': 10,  \n",
    "        'south': -30\n",
    "      }\n",
    "\n",
    "#where you want to target your final analysis\n",
    "predictand_extent = {\n",
    "        'west':  153,\n",
    "        'east': 183,  \n",
    "        'north': 3,  \n",
    "        'south': -20\n",
    "      }"
   ]
  },
  {
   "cell_type": "markdown",
   "id": "fda1394a-7855-4d84-9385-0f8637ad87a0",
   "metadata": {},
   "source": [
    "### get all target / initialization periods for each initialization date"
   ]
  },
  {
   "cell_type": "code",
   "execution_count": 4,
   "id": "e64171ae-c5ce-4fab-80b7-5d65b6df2c04",
   "metadata": {},
   "outputs": [],
   "source": [
    "initial_months, initial_month_names, target_seasons, target_months = [], [], [], []\n",
    " \n",
    "for i in initial_dates:\n",
    "    leads = [['1', '3'],['2', '4'], ['3','5']]\n",
    "    initial_month = dt.datetime(*i).month\n",
    "    initial_months.append(initial_month)\n",
    "    initial_month_names.append(helper.number_to_month_name_dictionary[initial_month])\n",
    "    target_month = []\n",
    "    target_seas = []\n",
    "    for l in leads:\n",
    "        target_low = helper.number_to_month_name_dictionary[(initial_month + float(l[0]))%12]\n",
    "        target_mid = helper.number_to_month_name_dictionary[(initial_month + float(l[0])+1)%12]\n",
    "        target_high = helper.number_to_month_name_dictionary[(initial_month + float(l[1]))%12]\n",
    "        target_seas.append('-'.join([target_low, target_high]))\n",
    "        target_month.append(target_low[0] + target_mid[0] + target_high[0])\n",
    "    target_seasons.append(target_seas)\n",
    "    target_months.append(target_month)"
   ]
  },
  {
   "cell_type": "markdown",
   "id": "0de4ef99-25d0-493e-8ba0-a26f15194fb4",
   "metadata": {},
   "source": [
    "### setting up nmme data for analysis\n",
    "these netcdf files when processed are counting forwards, 32 years for single season analysis (1991-2022), 75 years for three season analysis (25 years times 3 seasons); set up this time as the base time to align the other files as the one 'T' index for each initialized month"
   ]
  },
  {
   "cell_type": "markdown",
   "id": "a9965696-5eab-4ee6-a5c8-486e6370aab9",
   "metadata": {},
   "source": [
    "#### one season setup"
   ]
  },
  {
   "cell_type": "code",
   "execution_count": 5,
   "id": "fdf26a69-52f5-4dd7-b357-1bcf41ed9c6f",
   "metadata": {},
   "outputs": [],
   "source": [
    "# read in hindcast and forecast data\n",
    "training_length = 'one_seas'\n",
    "oneseas_hindcast_data_im, oneseas_forecast_data_im = [], []\n",
    "for i, im in enumerate(initial_month_names):\n",
    "    hindcast_data, forecast_data = [], []\n",
    "    for t, target in enumerate(target_months[i]):\n",
    "        hindcast_data_l, forecast_data_l = [], []\n",
    "        for gcm in gcms:\n",
    "            gcm_hindcast_download_file = '{}*.nc'.format('_'.join([im, 'ld' + leads[t][0], training_length, gcm, 'hind']))\n",
    "            gcm_forecast_download_file = '{}*.nc'.format('_'.join([im, 'ld' + leads[t][0], training_length, gcm, 'fcst']))\n",
    "            g = xr.open_dataset(glob.glob(os.path.join(nmme_nc_dir, gcm_hindcast_download_file))[0])\n",
    "            f = xr.open_dataset(glob.glob(os.path.join(nmme_nc_dir, gcm_forecast_download_file))[0])\n",
    "            g = helper.prep_names(g, helper.coordinate_conversion).expand_dims({'M':[gcm]}).dropna(dim = 'Y')\n",
    "            f = helper.prep_names(f, helper.coordinate_conversion).expand_dims({'M':[gcm]}).dropna(dim = 'Y')\n",
    "            hindcast_data_l.append(g)\n",
    "            forecast_data_l.append(f)\n",
    "        hindcast_data_l = xr.concat(hindcast_data_l, dim = 'M')\n",
    "        forecast_data_l = xr.concat(forecast_data_l, dim = 'M')\n",
    "        hindcast_data_l = hindcast_data_l.assign_coords({'L':t+1})\n",
    "        forecast_data_l = forecast_data_l.assign_coords({'L':t+1})\n",
    "        hindcast_data.append(hindcast_data_l)\n",
    "        forecast_data.append(forecast_data_l)\n",
    "    #create one dataset across all lead times of interest\n",
    "    forecast_data = xr.concat(forecast_data, dim = 'L')\n",
    "    #check all hindcast years are available for all lead times and only keep dataset with intersecting years\n",
    "    hindcast_data = xr.concat(hindcast_data, dim = 'L')\n",
    "\n",
    "    oneseas_hindcast_data_im.append(hindcast_data)\n",
    "    oneseas_forecast_data_im.append(forecast_data)"
   ]
  },
  {
   "cell_type": "code",
   "execution_count": 6,
   "id": "854a9c21-93e3-4c27-9745-efd830c43d33",
   "metadata": {},
   "outputs": [],
   "source": [
    "for i, im in enumerate(initial_month_names):\n",
    "    oneseas_forecast_data_im[i].to_netcdf(os.path.join(practical_data_dir, '_'.join([im, 'oneseas_NMME_fcst_precip.nc'])))\n",
    "    oneseas_hindcast_data_im[i].to_netcdf(os.path.join(practical_data_dir, '_'.join([im, 'oneseas_NMME_hcst_precip.nc'])))"
   ]
  },
  {
   "cell_type": "markdown",
   "id": "51df6b3a-02b8-4ea1-b848-f2ff999476ac",
   "metadata": {},
   "source": [
    "#### three season setup"
   ]
  },
  {
   "cell_type": "code",
   "execution_count": 10,
   "id": "830300b6-6eea-40a9-a2c1-fa94b82c5594",
   "metadata": {},
   "outputs": [],
   "source": [
    "# read in hindcast and forecast data\n",
    "training_length = 'three_seas'\n",
    "threeseas_hindcast_data_im, threeseas_forecast_data_im = [], []\n",
    "for i, im in enumerate(initial_month_names):\n",
    "    hindcast_data, forecast_data = [], []\n",
    "    for t, target in enumerate(target_months[i]):\n",
    "        hindcast_data_l, forecast_data_l = [], []\n",
    "        for gcm in gcms:\n",
    "            gcm_hindcast_download_file = '{}*.nc'.format('_'.join([im, 'ld' + leads[t][0], training_length, gcm, 'hind']))\n",
    "            gcm_forecast_download_file = '{}*.nc'.format('_'.join([im, 'ld' + leads[t][0], training_length, gcm, 'fcst']))\n",
    "            g = xr.open_dataset(glob.glob(os.path.join(nmme_nc_dir, gcm_hindcast_download_file))[0])\n",
    "            f = xr.open_dataset(glob.glob(os.path.join(nmme_nc_dir, gcm_forecast_download_file))[0])\n",
    "            g = helper.prep_names(g, helper.coordinate_conversion).expand_dims({'M':[gcm]}).dropna(dim = 'Y')\n",
    "            f = helper.prep_names(f, helper.coordinate_conversion).expand_dims({'M':[gcm]}).dropna(dim = 'Y')\n",
    "            hindcast_data_l.append(g)\n",
    "            forecast_data_l.append(f)\n",
    "        hindcast_data_l = xr.concat(hindcast_data_l, dim = 'M')\n",
    "        forecast_data_l = xr.concat(forecast_data_l, dim = 'M')\n",
    "        hindcast_data_l = hindcast_data_l.assign_coords({'L':t+1})\n",
    "        forecast_data_l = forecast_data_l.assign_coords({'L':t+1})\n",
    "        hindcast_data.append(hindcast_data_l)\n",
    "        forecast_data.append(forecast_data_l)\n",
    "    #create one dataset across all lead times of interest\n",
    "    forecast_data = xr.concat(forecast_data, dim = 'L')\n",
    "    #check all hindcast years are available for all lead times and only keep dataset with intersecting years\n",
    "    hindcast_data = xr.concat(hindcast_data, dim = 'L')\n",
    "    \n",
    "    #crop model data to predictor extent\n",
    "    hindcast_360 = helper.adjust_longitude_to_360(hindcast_data, 'X').sortby('Y', ascending = True).sortby('X', ascending = True)\n",
    "    hindcast_comp = hindcast_360.sel(X= slice(predictor_extent['west'], predictor_extent['east']),\n",
    "                            Y = slice(predictor_extent['south'], predictor_extent['north']))\n",
    "    forecast_360 = helper.adjust_longitude_to_360(forecast_data, 'X').sortby('Y', ascending = True).sortby('X', ascending = True)\n",
    "    forecast_comp = forecast_360.sel(X= slice(predictor_extent['west'], predictor_extent['east']),\n",
    "                        Y = slice(predictor_extent['south'], predictor_extent['north']))\n",
    "\n",
    "    threeseas_hindcast_data_im.append(hindcast_comp)\n",
    "    threeseas_forecast_data_im.append(forecast_comp)"
   ]
  },
  {
   "cell_type": "code",
   "execution_count": 11,
   "id": "f22eff08-9bdc-4e46-93ec-81565bed7c24",
   "metadata": {},
   "outputs": [],
   "source": [
    "for i, im in enumerate(initial_month_names):\n",
    "    threeseas_forecast_data_im[i].to_netcdf(os.path.join(practical_data_dir, '_'.join([im, 'threeseas_NMME_fcst_precip.nc'])))\n",
    "    threeseas_hindcast_data_im[i].to_netcdf(os.path.join(practical_data_dir, '_'.join([im, 'threeseas_NMME_hcst_precip.nc'])))"
   ]
  },
  {
   "cell_type": "markdown",
   "id": "e5f13dfb-917e-4822-98dc-cb9ff04d74e1",
   "metadata": {},
   "source": [
    "### setting up cmorph data for analysis\n",
    "this data was processed in the same manner as nmme, so should have the exact same time stamp, but calculate the intersecting T values to be absolutely certain before combining across leads"
   ]
  },
  {
   "cell_type": "code",
   "execution_count": 12,
   "id": "f1a1ad9a-ffda-40f9-a590-bd96c5fa685d",
   "metadata": {},
   "outputs": [],
   "source": [
    "threeseas_cmorph_im = []\n",
    "for i, im in enumerate(initial_month_names):\n",
    "    obs_leads = []\n",
    "    for t, target in enumerate(target_months[i]):\n",
    "        obs_file = '{}*.nc'.format('_'.join([im, 'ld' + str(t + 1), 'CMORPH']))\n",
    "        Y_raw = xr.open_dataset(glob.glob(os.path.join(cmorph_nc_dir, obs_file))[0])\n",
    "        Y = helper.prep_names(Y_raw, helper.coordinate_conversion)\n",
    "        Y = getattr(Y, [i for i in Y.data_vars][0])\n",
    "        Y = Y.expand_dims({'L':[t+1], 'M':[0]}).to_dataset(name = 'precip')\n",
    "        obs_leads.append(Y)\n",
    "    obs_leads = xr.concat(obs_leads, dim = 'L')\n",
    "    \n",
    "    #crop observations to target zone\n",
    "    obs_360 = helper.adjust_longitude_to_360(obs_leads, 'X').sortby('Y', ascending = True).sortby('X', ascending = True)\n",
    "    obs_comp = obs_360.sel(X= slice(predictand_extent['west'], predictand_extent['east']),\n",
    "                            Y = slice(predictand_extent['south'], predictand_extent['north']))\n",
    "    threeseas_cmorph_im.append(obs_comp)"
   ]
  },
  {
   "cell_type": "code",
   "execution_count": 13,
   "id": "aace3a5c-5023-4dda-a6f3-eb93bbd90010",
   "metadata": {},
   "outputs": [],
   "source": [
    "for i, im in enumerate(initial_month_names):\n",
    "    threeseas_cmorph_im[i].to_netcdf(os.path.join(practical_data_dir, '_'.join([im, 'threeseas_CMORPH_precip.nc'])))"
   ]
  },
  {
   "cell_type": "markdown",
   "id": "ef149f75-2a2b-4659-bb8a-dce55f5fd0f5",
   "metadata": {},
   "source": [
    "### setting up chirps data for analysis\n",
    "only keep years available to NMME: 1991-2016\n",
    "label all years as the NMME years to keep it simple (given that netcdf is counting forwards) once the years extracted are correct"
   ]
  },
  {
   "cell_type": "code",
   "execution_count": 14,
   "id": "44731113-994b-45f1-81a7-9ba49eda875e",
   "metadata": {},
   "outputs": [],
   "source": [
    "oneseas_ucsb_im = []\n",
    "for i, im in enumerate(initial_month_names):\n",
    "    obs_leads = []\n",
    "    for t, target in enumerate(target_months[i]):\n",
    "        obs_file = '{}*.nc'.format('_'.join([target, 'UCSB0p05_pac-islands']))\n",
    "        Y_raw = xr.open_dataset(glob.glob(os.path.join(chirps_nc_dir, obs_file))[0])\n",
    "        years_of_interest = helper.getYears(1991,2022)\n",
    "        Y_raw = Y_raw.sel(year=Y_raw.year.isin(years_of_interest))\n",
    "        Y = helper.prep_names(Y_raw, helper.coordinate_conversion)\n",
    "        Y = getattr(Y, [i for i in Y.data_vars][0])\n",
    "        Y = Y.expand_dims({'L':[t+1], 'M':[0]}).drop('season')\n",
    "        Y = Y.to_dataset(name = 'precip')\n",
    "        model = oneseas_hindcast_data_im[i].isel(L=t)\n",
    "        #update observations to have same time dimension as the model hindcasts\n",
    "        Y_update = []\n",
    "        for oneyear, year in enumerate(Y.T.values):\n",
    "            Y_year = Y.sel(T=year)\n",
    "            Y_year = Y_year.assign_coords({'T': model.isel(T=oneyear).T.values})\n",
    "            Y_update.append(Y_year)\n",
    "        Y_update = xr.concat(Y_update, dim = 'T')\n",
    "        \n",
    "        #crop observations to target zone\n",
    "        obs_360 = helper.adjust_longitude_to_360(Y_update, 'X').sortby('Y', ascending = True).sortby('X', ascending = True)\n",
    "        obs_comp = obs_360.sel(X= slice(predictand_extent['west'], predictand_extent['east']),\n",
    "                                Y = slice(predictand_extent['south'], predictand_extent['north']))\n",
    "        obs_leads.append(obs_comp)\n",
    "    obs_leads = xr.concat(obs_leads, dim = 'L')\n",
    "    oneseas_ucsb_im.append(obs_leads)"
   ]
  },
  {
   "cell_type": "code",
   "execution_count": 15,
   "id": "2fee472b-5a91-4c91-9371-3b9ce70d92ef",
   "metadata": {},
   "outputs": [],
   "source": [
    "for i, im in enumerate(initial_month_names):\n",
    "    oneseas_ucsb_im[i].to_netcdf(os.path.join(practical_data_dir, '_'.join([im, 'oneseas_CHIRPS_precip.nc'])))"
   ]
  },
  {
   "cell_type": "code",
   "execution_count": null,
   "id": "c4e87b97-f1ac-4b63-b71b-1ccf451b5496",
   "metadata": {},
   "outputs": [],
   "source": [
    "181*361"
   ]
  },
  {
   "cell_type": "code",
   "execution_count": null,
   "id": "21d8761c-61c0-4bdc-9112-c4215e53c68d",
   "metadata": {},
   "outputs": [],
   "source": [
    "65160/360"
   ]
  },
  {
   "cell_type": "code",
   "execution_count": null,
   "id": "60ae0354-1476-4aa6-9482-b5e214c826c2",
   "metadata": {},
   "outputs": [],
   "source": []
  }
 ],
 "metadata": {
  "kernelspec": {
   "display_name": "xcast_new",
   "language": "python",
   "name": "xcast_new"
  },
  "language_info": {
   "codemirror_mode": {
    "name": "ipython",
    "version": 3
   },
   "file_extension": ".py",
   "mimetype": "text/x-python",
   "name": "python",
   "nbconvert_exporter": "python",
   "pygments_lexer": "ipython3",
   "version": "3.9.13"
  }
 },
 "nbformat": 4,
 "nbformat_minor": 5
}
