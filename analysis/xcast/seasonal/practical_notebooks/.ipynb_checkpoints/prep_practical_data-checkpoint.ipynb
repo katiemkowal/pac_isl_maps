{
 "cells": [
  {
   "cell_type": "code",
   "execution_count": 3,
   "id": "55ddebc7-9e8f-4ab9-aafe-59ba6e0f5cda",
   "metadata": {},
   "outputs": [],
   "source": [
    "import xcast as xc\n",
    "import datetime as dt\n",
    "import numpy as np\n",
    "from pathlib import Path\n",
    "import xarray as xr\n",
    "import os\n",
    "import time\n",
    "import cartopy.crs as ccrs\n",
    "import cartopy.feature as cf\n",
    "import matplotlib.pyplot as plt\n",
    "import glob"
   ]
  },
  {
   "cell_type": "code",
   "execution_count": 4,
   "id": "b302ba79-00e5-4365-aa59-7556eaa30584",
   "metadata": {},
   "outputs": [],
   "source": [
    "# setup the folder where you want to work for this project\n",
    "# either type in the location, or place this notebook in the folder where you want your project to live and set project_dir = os.getcwd()\n",
    "project_dir = os.getcwd()#\"/Users/katie/Desktop/trial_pacisl\" \n",
    "\n",
    "#make subdirectores to organize your work within the project if they don't already exist\n",
    "data_dir = os.path.join(project_dir, 'practical_data')\n",
    "nc_dir = os.path.join(data_dir, 'nc_files')\n",
    "\n",
    "obs_types = ['CMORPH', 'UCSB0p05']"
   ]
  },
  {
   "cell_type": "code",
   "execution_count": 5,
   "id": "88b93065-73d8-49e9-a7a1-ef249a632e10",
   "metadata": {},
   "outputs": [],
   "source": [
    "initial_dates = [(2023, 7,1), (2023, 8, 1), (2023, 9, 1), (2023, 10, 1), (2023, 11,1), (2023, 12,1),\n",
    "                 (2024, 1, 1), (2024, 2, 1), (2024, 3, 1), (2024, 4, 1), (2024, 5, 1), (2024, 6, 1)]"
   ]
  },
  {
   "cell_type": "code",
   "execution_count": 6,
   "id": "aba55ded-fdc2-43c3-9491-f0a82f1c1bb3",
   "metadata": {},
   "outputs": [],
   "source": [
    "#this cell is setup to calculate your target forecast months based on your initialization date\n",
    "#the forecast months are currently seto to be 1-3, 2-4 and 3-5 months ahead\n",
    "number_to_month_name_dictionary = {\n",
    "    1: 'Jan',\n",
    "    2: 'Feb',\n",
    "    3: 'Mar',\n",
    "    4: 'Apr',\n",
    "    5: 'May',\n",
    "    6: 'Jun',\n",
    "    7: 'Jul',\n",
    "    8: 'Aug',\n",
    "    9: 'Sep',\n",
    "    10: 'Oct',\n",
    "    11: 'Nov',\n",
    "    12: 'Dec',\n",
    "    0: 'Dec'\n",
    "}\n",
    "\n",
    "coordinate_conversion = {\n",
    "    'latitude': 'Y',\n",
    "    'lat': 'Y',\n",
    "    'Y': 'Y',\n",
    "    'longitude': 'X',\n",
    "    'lon': 'X',\n",
    "    'X': 'X',\n",
    "    'time': 'T',\n",
    "    'year': 'T',\n",
    "    'season': 'season',\n",
    "    'T': 'T'\n",
    "}"
   ]
  },
  {
   "cell_type": "code",
   "execution_count": 15,
   "id": "9f73dca2-30fc-4ec1-9cb4-89e4ef054ffd",
   "metadata": {},
   "outputs": [],
   "source": [
    "initial_date = initial_dates[8]\n",
    "obs_name = obs_types[0]"
   ]
  },
  {
   "cell_type": "code",
   "execution_count": 16,
   "id": "e64171ae-c5ce-4fab-80b7-5d65b6df2c04",
   "metadata": {},
   "outputs": [
    {
     "name": "stdout",
     "output_type": "stream",
     "text": [
      "Target seasons to forecast\n",
      "['Apr-Jun', 'May-Jul', 'Jun-Aug']\n"
     ]
    }
   ],
   "source": [
    "leads = [['1', '3'],['2', '4'], ['3','5']]\n",
    "initial_month = dt.datetime(*initial_date).month\n",
    "initial_month_name = number_to_month_name_dictionary[initial_month]\n",
    "target_months = []\n",
    "target_seas = []\n",
    "for l in leads:\n",
    "    target_low = number_to_month_name_dictionary[(initial_month + float(l[0]))%12]\n",
    "    target_mid = number_to_month_name_dictionary[(initial_month + float(l[0])+1)%12]\n",
    "    target_high = number_to_month_name_dictionary[(initial_month + float(l[1]))%12]\n",
    "    target_seas.append('-'.join([target_low, target_high]))\n",
    "    target_months.append(target_low[0] + target_mid[0] + target_high[0])\n",
    "print('Target seasons to forecast')\n",
    "print(target_seas)"
   ]
  },
  {
   "cell_type": "code",
   "execution_count": 18,
   "id": "9772f2cf-d31a-4dc6-a31c-b52a446b6c94",
   "metadata": {},
   "outputs": [],
   "source": [
    "def prep_names(ds, coordinate_conversion):\n",
    "    og_coords = list(ds.coords)\n",
    "    for o in og_coords:\n",
    "        ds = ds.rename({o:coordinate_conversion[o]})\n",
    "    return ds\n",
    "\n",
    "#check all years are available for all lead times in hindcast period, only keep intersecting years\n",
    "def calc_intersecting_years(ds_list):\n",
    "    nyears = []\n",
    "    for ds in ds_list:\n",
    "        nyears.append(len(np.unique(ds.S.values)))\n",
    "        \n",
    "    if all(i==nyears[0] for i in nyears) == True:\n",
    "        ds_update = xr.concat(ds_list, dim = 'L')\n",
    "    else:\n",
    "        unique_years = []\n",
    "        for ds in ds_list:\n",
    "            base = ds.swap_dims({'S':'T'}).to_dataset(name = 'prec')\n",
    "            unique_years.append(np.unique(base.T.dt.year.values))\n",
    "        intersecting_years = [x for x in unique_years[0] if x in unique_years[1] and x in unique_years[2]]\n",
    "\n",
    "    updated_obs = []\n",
    "    for ds in ds_list:\n",
    "        ds_check = ds.swap_dims({'S':'T'}).to_dataset(name = 'prec')\n",
    "        updated_obs.append(obs_check.sel(T=obs_check.T.dt.year.isin(intersecting_years)).swap_dims({'T':'S'}).prec)"
   ]
  },
  {
   "cell_type": "code",
   "execution_count": 19,
   "id": "1d29a977-8479-49ea-9a35-bdbe516100d3",
   "metadata": {},
   "outputs": [],
   "source": [
    "obs_leads = []\n",
    "\n",
    "for t, target in enumerate(target_months):\n",
    "    if obs_name == 'CMORPH':\n",
    "        obs_file = '{}*.nc'.format('_'.join([initial_month_name, 'ld' + str(t + 1), obs_name]))\n",
    "    elif 'UCSB' in obs_name:\n",
    "        obs_file = '{}*.nc'.format('_'.join([target, obs_name, 'pac-islands']))\n",
    "        \n",
    "    Y_raw = xr.open_dataset(glob.glob(os.path.join(nc_dir, obs_file))[0])\n",
    "    Y = prep_names(Y_raw, coordinate_conversion)\n",
    "    Y = getattr(Y, [i for i in Y.data_vars][0])\n",
    "    Y = Y.expand_dims({'L':[t+1]}).swap_dims({'T':'S'})\n",
    "    obs_leads.append(Y)\n",
    "\n",
    "#check all years are available for all lead times in hindcast period, only keep intersecting years\n",
    "nyears = []\n",
    "for obs in obs_leads:\n",
    "    nyears.append(len(np.unique(obs.S.values)))\n",
    "if all(i==nyears[0] for i in nyears) == True:\n",
    "    obs_leads = xr.concat(obs_leads, dim = 'L')\n",
    "else:\n",
    "    seas_years = []\n",
    "    for obs in obs_leads:\n",
    "        base_obs = obs.swap_dims({'S':'T'}).to_dataset(name = 'prec')\n",
    "        seas_years.append(np.unique(base_obs.T.dt.year.values))\n",
    "    intersecting_years = [x for x in seas_years[0] if x in seas_years[1] and x in seas_years[2]]\n",
    "\n",
    "    updated_obs = []\n",
    "    for obs in obs_leads:\n",
    "        obs_check = obs.swap_dims({'S':'T'}).to_dataset(name = 'prec')\n",
    "        updated_obs.append(obs_check.sel(T=obs_check.T.dt.year.isin(intersecting_years)).swap_dims({'T':'S'}).prec)\n",
    "    obs_leads = xr.concat(updated_obs, dim = 'L')"
   ]
  },
  {
   "cell_type": "code",
   "execution_count": null,
   "id": "bfd91a9b-266e-436e-b35a-0affb9eac625",
   "metadata": {},
   "outputs": [],
   "source": []
  }
 ],
 "metadata": {
  "kernelspec": {
   "display_name": "xcast_new",
   "language": "python",
   "name": "xcast_new"
  },
  "language_info": {
   "codemirror_mode": {
    "name": "ipython",
    "version": 3
   },
   "file_extension": ".py",
   "mimetype": "text/x-python",
   "name": "python",
   "nbconvert_exporter": "python",
   "pygments_lexer": "ipython3",
   "version": "3.9.13"
  }
 },
 "nbformat": 4,
 "nbformat_minor": 5
}
