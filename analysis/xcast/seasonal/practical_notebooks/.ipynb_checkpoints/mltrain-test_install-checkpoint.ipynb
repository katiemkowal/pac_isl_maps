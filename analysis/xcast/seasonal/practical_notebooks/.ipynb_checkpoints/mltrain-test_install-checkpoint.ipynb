{
 "cells": [
  {
   "cell_type": "markdown",
   "id": "a0a20f40-dba1-4317-908a-a39cfe268657",
   "metadata": {},
   "source": [
    "# Notebook to Test intdesk_train Environment Installed Correctly\n",
    "Make sure you have activated your intdesk_train python environment first prior to running the cells in this notebook to test whether it installed correctly"
   ]
  },
  {
   "cell_type": "markdown",
   "id": "dc7891d9-628d-4842-829a-ee426ed32eb7",
   "metadata": {},
   "source": [
    "## Libraries"
   ]
  },
  {
   "cell_type": "code",
   "execution_count": 1,
   "id": "3e457ebf-7a0d-41f6-938b-c9c5c7887da0",
   "metadata": {},
   "outputs": [],
   "source": [
    "import xcast as xc\n",
    "import datetime as dt\n",
    "from datetime import datetime\n",
    "import numpy as np\n",
    "from pathlib import Path\n",
    "import xarray as xr\n",
    "import os\n",
    "import time\n",
    "import cartopy.crs as ccrs\n",
    "import cartopy.feature as cf\n",
    "import matplotlib.pyplot as plt\n",
    "import glob\n",
    "from cartopy.feature import NaturalEarthFeature"
   ]
  },
  {
   "cell_type": "markdown",
   "id": "26ecb456-d172-4705-99a6-869a57340fdc",
   "metadata": {},
   "source": [
    "## Project Directory Setup Test\n",
    "This code will create 'practical_data' and 'practical_figures' subdirectories within your current working directory"
   ]
  },
  {
   "cell_type": "code",
   "execution_count": 2,
   "id": "572e2c57-1151-4df6-878b-bc23cf95c973",
   "metadata": {},
   "outputs": [
    {
     "name": "stdout",
     "output_type": "stream",
     "text": [
      "Project Directory is Located in /cpc/int_desk/pac_isl/analysis/xcast/seasonal/practical_notebooks\n"
     ]
    }
   ],
   "source": [
    "# setup the folder where you want to work for this project\n",
    "# either type in the location of your working directory below, or place this notebook in the folder where you want your project to live and set project_dir = os.getcwd()\n",
    "project_dir = os.getcwd()#\"/Users/katie/Desktop/trial_pacisl\" \n",
    "print('Project Directory is Located in ' + project_dir)\n",
    "\n",
    "#makes subdirectores to organize your work within the project if they don't already exist\n",
    "os.makedirs(os.path.join(project_dir, 'practical_data'), exist_ok = True)\n",
    "data_dir = os.path.join(project_dir, 'practical_data')\n",
    "os.makedirs(os.path.join(project_dir, 'practical_figures'), exist_ok = True)\n",
    "figure_dir = os.path.join(project_dir, 'practical_figures')"
   ]
  }
 ],
 "metadata": {
  "kernelspec": {
   "display_name": "intdesk_train",
   "language": "python",
   "name": "intdesk_train"
  },
  "language_info": {
   "codemirror_mode": {
    "name": "ipython",
    "version": 3
   },
   "file_extension": ".py",
   "mimetype": "text/x-python",
   "name": "python",
   "nbconvert_exporter": "python",
   "pygments_lexer": "ipython3",
   "version": "3.9.13"
  }
 },
 "nbformat": 4,
 "nbformat_minor": 5
}
