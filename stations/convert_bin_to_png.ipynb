{
 "cells": [
  {
   "cell_type": "code",
   "execution_count": null,
   "id": "b6385ea3-058d-4de2-8157-2709cf72302b",
   "metadata": {},
   "outputs": [],
   "source": [
    "import os\n",
    "from datetime import datetime,timedelta\n",
    "import numpy as np\n",
    "import xarray as xr\n",
    "import matplotlib.pyplot as plt"
   ]
  },
  {
   "cell_type": "code",
   "execution_count": null,
   "id": "e38bc890-a19d-4bdb-a28e-262fc3479466",
   "metadata": {},
   "outputs": [],
   "source": [
    "cmorph_prd = '/cpc/fews/production/cmorph_cpcwork5/cmorph_RH6_BC_ADJ_EOD/output/bin/CMORPH_V1.0_ADJ_0.25deg-DLY_EOD_'\n",
    "#from Ravi's ctl file for cmorph\n",
    "xdim = 1440\n",
    "ydim = 480\n",
    "xmin = 0.125\n",
    "xmax = 360\n",
    "ymin = -59.875\n",
    "ymax = 60"
   ]
  },
  {
   "cell_type": "code",
   "execution_count": null,
   "id": "de05dd0e-b6f3-4c4b-8bf0-1c3b77f360ea",
   "metadata": {},
   "outputs": [],
   "source": [
    "def get_date_str(date):\n",
    "    if date.month <10:\n",
    "        cmonth_str = '0' + str(date.month)\n",
    "    else:\n",
    "        cmonth_str = str(date.month)\n",
    "    if date.day <10:\n",
    "        cday_str = '0' + str(date.day)\n",
    "    else: cday_str = str(date.day)\n",
    "    current_str = str(date.year) + cmonth_str + cday_str\n",
    "    return current_str"
   ]
  },
  {
   "cell_type": "code",
   "execution_count": null,
   "id": "887d68d7-d2b2-4b6a-a2c2-0215cddbe948",
   "metadata": {},
   "outputs": [],
   "source": [
    "def read_in_binary(location, xdim, ydim, xmin, xmax, ymin, ymax):\n",
    "    with open(location, 'rb') as binary_file:\n",
    "        binary_data = binary_file.read()\n",
    "    data = np.frombuffer(binary_data, dtype = np.float32)\n",
    "    data = data.reshape(ydim, xdim)\n",
    "    lat = np.linspace(ymin, ymax, data.shape[0])\n",
    "    lon = np.linspace(xmin, xmax, data.shape[1])\n",
    "    da = xr.DataArray(data, dims = ['lat', 'lon'], coords = {'lat': lat, 'lon':lon})\n",
    "    return da"
   ]
  },
  {
   "cell_type": "code",
   "execution_count": null,
   "id": "7e3083ea-bd61-4c69-ae60-6d606bc6d487",
   "metadata": {},
   "outputs": [],
   "source": [
    "from datetime import datetime, timedelta\n",
    "\n",
    "# Get the current date\n",
    "current_date = datetime.now().date()\n",
    "\n",
    "# Get the date 7 days prior\n",
    "seven_days_ago = current_date - timedelta(days=8)\n",
    "\n",
    "# Generate a list of dates from seven_days_ago to current_date\n",
    "week1 = [seven_days_ago + timedelta(days=i) for i in range(7)]  # 8 to include both endpoints\n",
    "\n",
    "date_strs = []\n",
    "for date in week1:\n",
    "    date_strs.append(get_date_str(date))"
   ]
  },
  {
   "cell_type": "code",
   "execution_count": null,
   "id": "a4f7224c-e5af-4f9d-b88f-496d589c52d9",
   "metadata": {},
   "outputs": [],
   "source": [
    "week1_da = []\n",
    "for d, date in enumerate(date_strs):\n",
    "    da = read_in_binary(cmorph_prd + date, xdim, ydim, xmin, xmax, ymin, ymax)\n",
    "    da = da.expand_dims({'date': [week1[d]]})\n",
    "    week1_da.append(da)\n",
    "\n",
    "week1_ds = xr.concat(week1_da, dim = 'date').sum(dim = 'date').to_dataset(name = 'weekly_cmorph')\n",
    "plt.figure()\n",
    "quadmesh = week1_ds.weekly_cmorph.plot()\n",
    "ax = plt.gca()\n",
    "ax.axis('off')\n",
    "plt.savefig('weeklycmorph.png', bbox_inches = 'tight', pad_inches = 0)"
   ]
  }
 ],
 "metadata": {
  "kernelspec": {
   "display_name": "map_env",
   "language": "python",
   "name": "map_env"
  },
  "language_info": {
   "codemirror_mode": {
    "name": "ipython",
    "version": 3
   },
   "file_extension": ".py",
   "mimetype": "text/x-python",
   "name": "python",
   "nbconvert_exporter": "python",
   "pygments_lexer": "ipython3",
   "version": "3.9.13"
  }
 },
 "nbformat": 4,
 "nbformat_minor": 5
}
