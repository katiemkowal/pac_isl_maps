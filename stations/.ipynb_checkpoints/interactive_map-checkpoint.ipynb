{
 "cells": [
  {
   "cell_type": "code",
   "execution_count": 18,
   "id": "1f8a7c73-a80f-4afa-b5be-22c3c5d4b3b8",
   "metadata": {},
   "outputs": [],
   "source": [
    "import plotly.express as px\n",
    "import os\n",
    "import plotly.io as pio\n",
    "pio.renderers.default = 'jupyterlab' # For Jupyter Notebook"
   ]
  },
  {
   "cell_type": "markdown",
   "id": "488e7bd3-69de-4fb9-977e-078b23eb173c",
   "metadata": {},
   "source": [
    "### Helper Functions"
   ]
  },
  {
   "cell_type": "code",
   "execution_count": null,
   "id": "7eb6250d-6ceb-4e83-af11-f71a1bc756a4",
   "metadata": {},
   "outputs": [],
   "source": []
  },
  {
   "cell_type": "code",
   "execution_count": 24,
   "id": "f22c6b45-78a0-46f7-97f9-cc780fd568a3",
   "metadata": {},
   "outputs": [
    {
     "data": {
      "text/html": [
       "\n",
       "        <iframe\n",
       "            width=\"100%\"\n",
       "            height=\"500\"\n",
       "            src=\"stations.html\"\n",
       "            frameborder=\"0\"\n",
       "            allowfullscreen\n",
       "            \n",
       "        ></iframe>\n",
       "        "
      ],
      "text/plain": [
       "<IPython.lib.display.IFrame at 0x7f13dd920280>"
      ]
     },
     "execution_count": 24,
     "metadata": {},
     "output_type": "execute_result"
    }
   ],
   "source": [
    "import plotly.express as px\n",
    "import pandas as pd\n",
    "\n",
    "# Define the station locations with their latitudes and longitudes\n",
    "stations = {\n",
    "    'Region': ['FSM', 'FSM', 'FSM', 'FSM', 'FSM', 'FSM', \n",
    "               'Kiribati - Gilbert Group', 'Kiribati - Gilbert Group', 'Kiribati - Gilbert Group', 'Kiribati - Gilbert Group', \n",
    "               'Kiribati - Line Group', 'Kiribati - Line Group', 'Kiribati - Line Group', \n",
    "               'Kiribati - Phoenix Group',\n",
    "               'Palau', 'Palau', \n",
    "               'PNG', 'PNG', 'PNG', 'PNG', 'PNG', \n",
    "               'PNG', 'PNG', 'PNG', 'PNG', 'PNG', \n",
    "               'PNG', 'PNG', 'PNG', 'PNG', \n",
    "               'Samoa', 'Samoa', 'Samoa', 'Samoa', \n",
    "               'Samoa', 'Samoa', 'Samoa', 'Samoa', 'Samoa', \n",
    "               'Solomon Islands', 'Solomon Islands', 'Solomon Islands',  'Solomon Islands', \n",
    "               'Solomon Islands', 'Solomon Islands', 'Solomon Islands', 'Solomon Islands', \n",
    "               'Solomon Islands', 'Solomon Islands', \n",
    "               'Tuvalu', 'Tuvalu', 'Tuvalu', \n",
    "               'Vanuatu', 'Vanuatu', 'Vanuatu', \n",
    "               'Vanuatu', 'Vanuatu', 'Vanuatu', 'Vanuatu', \n",
    "               'Fiji', 'Fiji', 'Fiji', 'Fiji', \n",
    "               'Fiji', 'Fiji', 'Fiji', 'Fiji', \n",
    "               'Fiji', 'Fiji', 'Fiji', 'Fiji', 'Fiji', 'Fiji', 'Fiji', 'Fiji'],\n",
    "    'Station Name': ['Chuuk-Weno_FSM', 'Colonia-Yap_FSM', 'Lukunor_FSM', 'Kolonia-Pohnpei_FSM', 'Kosrae_FSM', 'Palikir-Pohnpei_FSM', \n",
    "                     'Abaiang_Kiribati', 'Beru_Kiribati', 'Butaritari_Kiribati', 'Tarawa_Kiribati', \n",
    "                     'Fanning_Kiribati',  'Kirimati_Kiribati', 'Washington_Kiribati', \n",
    "                     'Canton_Kiribati', \n",
    "                     'Koror_Palau', 'Ngerulmud_Palau', \n",
    "                     'Alotau_PNG', 'Kavieng_PNG', 'Lae_PNG', 'Madang_PNG',  'Mendi_PNG', \n",
    "                     'Mount-Hagen_PNG', 'Popondetta_PNG', 'Port Moresby_PNG',  'Tari_PNG', 'Wewak_PNG', \n",
    "                     'Goroka_PNG', 'Vanimo_PNG', 'Nadzab_PNG', 'Tokua_PNG', \n",
    "                     'Apia_Samoa', 'Afega_Samoa', 'Safotu_Samoa', 'Leulumoega_Samoa', \n",
    "                     'Asau_Samoa', 'Lufilufi_Samoa',  'Vailoa_Samoa', 'Saleaula_Samoa', 'Samamea_Samoa', \n",
    "                     'Auki_Solomons', 'Buala_Solomons', 'Gizo_Solomons',  'Honiara_Solomons', \n",
    "                     'Kirakira_Solomons', 'Lata_Solomons', 'Tigoa_Solomons', 'Tulagi_Solomons', \n",
    "                     'Taro_Solomons', 'Munda_Solomons', \n",
    "                     'Funafuti_Tuvalu', 'Nui_Tuvalu', 'Niulakita_Tuvalu', \n",
    "                     'Isangel_Vanuatu', 'Lakatoro_Vanuatu', 'Luganville_Vanuatu', 'Port-Vila_Vanuatu', \n",
    "                     'Sola_Vanuatu', 'Seratmata_Vanuatu', 'Aneityum_Vanuatu', \n",
    "                     'Ba_Fiji', 'Labasa_Fiji', 'Lami_Fiji', 'Lautoka_Fiji', \n",
    "                     'Nadi_Fiji', 'Nakasi_Fiji',  'Nausori_Fiji', 'Sigatoka_Fiji', \n",
    "                     'Suva_Fiji', 'Rotuma_Fiji', 'Nabouwalu_Fiji', 'Yasawa_Fiji', \n",
    "                     'Viwa_Fiji', 'VanuaBalavu_Fiji', 'Tubou-Lakeba_Fiji', 'Vunisea_Fiji'],\n",
    "    'Lon': [151.85, 138.13, 153.817, 158.207, 163.011, 158.159, 173.039, 175.996, 172.792, 173.147, \n",
    "                                        -159.386, -157.35, -160.408, -171.718, 134.476, 134.624, 150.458, 150.806, 146.996, \n",
    "                                        145.792, 143.657, 144.235, 148.239, 147.211, 142.95, 143.669, 145.392, 141.299, \n",
    "                                        146.73, 152.377, -171.763, -171.853, -172.408, -171.961, -172.628, -171.6, \n",
    "                                        -172.307, -172.337, -171.532, 160.697, 159.593, 156.846, 159.983, 161.92, \n",
    "                                        165.799, 160.063, 160.152, 156.396, 157.267, 179.197, 177.147, 179.471, 169.281, \n",
    "                                        167.419, 167.22, 168.321, 167.547, 167.987, 169.781, 177.671, 179.38, 178.415, \n",
    "                                        177.454, 177.451, 178.524, 178.531, 177.503, 178.435, 177.071, 178.695, 177.575, \n",
    "                                        176.913, -178.956, -178.812, 178.163],\n",
    "    'Lat': [7.45, 9.52, 5.502, 6.984, 5.326, 6.923, 1.799, -1.337, 3.072, 1.382, 3.898, 1.986, \n",
    "                                      4.692, -2.769, 7.342, 7.5, -10.314, -2.581, -6.728, -5.225, -6.145, -5.859, -8.764, \n",
    "                                      -9.439, -5.851, -3.584, -6.075, -2.688, -6.566, -4.343, -13.846, -13.8, -13.452, \n",
    "                                      -13.827, -13.528, -13.874, -13.755, -13.449, -13.934, -8.768, -8.146, -8.105, \n",
    "                                      -9.442, -10.457, -10.723, -11.551, -9.11, -6.711, -8.326, -8.524, -7.244, -10.79, \n",
    "                                      -19.541, -16.107, -15.505, -17.742, -13.873, -15.288, -20.234, -17.541, -16.432, \n",
    "                                      -18.112, -17.615, -17.753, -18.068, -18.03, -18.142, -18.135, -12.482, -16.998, \n",
    "                                      -16.699, -17.149, -17.246, -18.236, -19.047]\n",
    "}\n",
    "\n",
    "# Create a DataFrame from the station data\n",
    "df_stations = pd.DataFrame(stations)\n",
    "\n",
    "# Create a scatter mapbox to display station locations\n",
    "fig = px.scatter_mapbox(\n",
    "    df_stations,\n",
    "    lat=\"Lat\",\n",
    "    lon=\"Lon\",\n",
    "    hover_name=\"Station Name\",\n",
    "    zoom=3,\n",
    "    height=600,\n",
    "    mapbox_style=\"open-street-map\"\n",
    ")\n",
    "\n",
    "# Adjust the map's center to the Pacific region\n",
    "fig.update_layout(\n",
    "    mapbox=dict(\n",
    "        center={\"lat\": -15, \"lon\": 180},  # Central Pacific region\n",
    "        zoom=2,  # Adjust zoom level for a broader view\n",
    "        style = 'carto-positron',#options include \n",
    "        accesstoken=\"YOUR_MAPBOX_ACCESS_TOKEN\"  # Optional: Only if you want to use a custom Mapbox token\n",
    "    )\n",
    ")\n",
    "\n",
    "# Show the interactive map\n",
    "fig.write_html(\"stations.html\")\n",
    "\n",
    "# Display it in an iframe in the notebook\n",
    "from IPython.display import IFrame\n",
    "IFrame(src='stations.html', width='100%', height=500)"
   ]
  },
  {
   "cell_type": "code",
   "execution_count": 25,
   "id": "1cfd6869-e840-4d87-bd66-514b180475a4",
   "metadata": {},
   "outputs": [],
   "source": [
    "import xarray as xr\n",
    "import os"
   ]
  },
  {
   "cell_type": "code",
   "execution_count": 26,
   "id": "08826e58-881f-428b-9ca2-4b505c384fda",
   "metadata": {},
   "outputs": [
    {
     "name": "stdout",
     "output_type": "stream",
     "text": [
      "/cpc/int_desk/pac_isl/stations\n",
      "/cpc/int_desk/pac_isl/data/processed/chirps/nc_files/CHIRPSpac-islands.nc\n"
     ]
    }
   ],
   "source": [
    "print(os.getcwd())\n",
    "file_path = os.path.join(\"/cpc/int_desk/pac_isl/data/processed/chirps/nc_files\", \"CHIRPSpac-islands.nc\")\n",
    "print(file_path)\n",
    "obs_leads = xr.open_dataset(file_path, engine = 'netcdf4')"
   ]
  },
  {
   "cell_type": "code",
   "execution_count": null,
   "id": "c070bd33-cd66-4bad-8bb7-6283afa23dda",
   "metadata": {},
   "outputs": [],
   "source": []
  },
  {
   "cell_type": "code",
   "execution_count": null,
   "id": "99cf8598-6316-4224-88dc-641bead7bbd0",
   "metadata": {},
   "outputs": [],
   "source": []
  },
  {
   "cell_type": "code",
   "execution_count": null,
   "id": "b2d3cb88-c250-4b2b-9800-1b029b6b1bfe",
   "metadata": {},
   "outputs": [],
   "source": []
  },
  {
   "cell_type": "code",
   "execution_count": null,
   "id": "1261f33c-ff58-4eca-ade3-e8a37841c9b8",
   "metadata": {},
   "outputs": [],
   "source": []
  },
  {
   "cell_type": "code",
   "execution_count": null,
   "id": "f0de1296-cba6-4f6d-84eb-1e7e1055a554",
   "metadata": {},
   "outputs": [],
   "source": []
  },
  {
   "cell_type": "code",
   "execution_count": null,
   "id": "ec028b49-c77c-43ac-9aa2-9300a371cd62",
   "metadata": {},
   "outputs": [],
   "source": []
  },
  {
   "cell_type": "code",
   "execution_count": null,
   "id": "4fcc9ddd-e36c-4d3e-b10c-a6252160bc66",
   "metadata": {},
   "outputs": [],
   "source": []
  },
  {
   "cell_type": "code",
   "execution_count": null,
   "id": "dbc8086d-6a68-40c8-80ef-2b87d882d8cd",
   "metadata": {},
   "outputs": [],
   "source": []
  },
  {
   "cell_type": "code",
   "execution_count": null,
   "id": "7673016f-b5de-4b89-9cd5-adf045666434",
   "metadata": {},
   "outputs": [],
   "source": []
  },
  {
   "cell_type": "code",
   "execution_count": null,
   "id": "2b60ed23-a721-4376-89b3-365b78cb8348",
   "metadata": {},
   "outputs": [],
   "source": []
  },
  {
   "cell_type": "code",
   "execution_count": null,
   "id": "8398a9d1-77d2-4325-b658-44d531d0420b",
   "metadata": {},
   "outputs": [],
   "source": []
  },
  {
   "cell_type": "code",
   "execution_count": null,
   "id": "f5db56e9-434c-4e2b-8429-fdc8e2299508",
   "metadata": {},
   "outputs": [],
   "source": []
  }
 ],
 "metadata": {
  "kernelspec": {
   "display_name": "map_env",
   "language": "python",
   "name": "map_env"
  },
  "language_info": {
   "codemirror_mode": {
    "name": "ipython",
    "version": 3
   },
   "file_extension": ".py",
   "mimetype": "text/x-python",
   "name": "python",
   "nbconvert_exporter": "python",
   "pygments_lexer": "ipython3",
   "version": "3.9.13"
  }
 },
 "nbformat": 4,
 "nbformat_minor": 5
}
