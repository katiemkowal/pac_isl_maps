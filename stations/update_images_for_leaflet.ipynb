{
 "cells": [
  {
   "cell_type": "code",
   "execution_count": null,
   "id": "5642d55c-f46e-469d-8e2f-2a9ffead0b81",
   "metadata": {},
   "outputs": [],
   "source": [
    "### Libraries"
   ]
  },
  {
   "cell_type": "code",
   "execution_count": null,
   "id": "2dbd2eb9-f477-48ac-9cf2-962ec7f7e202",
   "metadata": {},
   "outputs": [],
   "source": [
    "import os\n",
    "from io import BytesIO\n",
    "import requests\n",
    "from datetime import datetime,timedelta\n",
    "import warnings\n",
    "import xarray as xr\n",
    "import io\n",
    "from PIL import Image\n",
    "import numpy as np\n",
    "import matplotlib.pyplot as plt\n",
    "import geopandas as gpd\n",
    "from shapely.geometry import Point, LineString, Polygon, MultiPolygon\n",
    "import pandas as pd\n",
    "import matplotlib.patheffects as path_effects\n",
    "from matplotlib.colors import ListedColormap\n",
    "from matplotlib.colorbar import ColorbarBase\n",
    "import matplotlib.colors as mcolors\n",
    "import image_functions as imagef\n",
    "import plotting_functions as plotf\n",
    "import helper_dicts as hdict\n",
    "import helper_functions as helper\n",
    "%load_ext autoreload\n",
    "%autoreload 2"
   ]
  },
  {
   "cell_type": "code",
   "execution_count": null,
   "id": "d30f9c61-b439-4832-8f4b-55339562e412",
   "metadata": {},
   "outputs": [],
   "source": [
    "layerlinks = {\n",
    "            'Monitor Tools': {\n",
    "                'OISST SST 7-Day Anomaly': 'https://www.cpc.ncep.noaa.gov/products/international/oisst/oisst_7day_pac_anom.gif',\n",
    "                'OISST SST 7-Day Anomaly Difference': 'https://www.cpc.ncep.noaa.gov/products/international/oisst/oisst_7day_pac_diff.gif',\n",
    "                'CMORPH Time Series Points': 'https://www.cpc.ncep.noaa.gov/products/international/zz_CP_Islands/zz_CMORPH_BLD_2nd/CMORPH_BLD_Islands_180day.shtml',\n",
    "                'CMORPH 90 Day Precip Anomaly': 'https://www.cpc.ncep.noaa.gov/products/international/drought/precip/img/Anom_90day_PacificIslands.png',\n",
    "                'CMORPH 90 Day Precip Percent': 'https://www.cpc.ncep.noaa.gov/products/international/drought/precip/img/Perc_90day_PacificIslands.png',\n",
    "                'CMORPH 3-month SPI': 'https://www.cpc.ncep.noaa.gov/products/international/dm/daily/Pacific_CMORPH_SPI_3mo.png',\n",
    "                'CMORPH 3-month SPEI': 'https://www.cpc.ncep.noaa.gov/products/international/dm/daily/Pacific_CMORPH_SPEI_3mo.png',\n",
    "                'CMORPH 30 Day Precip Anomaly': 'https://www.cpc.ncep.noaa.gov/products/international/drought/precip/img/Anom_30day_PacificIslands.png',\n",
    "                'CMORPH 30 Day Precip Percent': 'https://www.cpc.ncep.noaa.gov/products/international/drought/precip/img/Perc_30day_PacificIslands.png',\n",
    "                'CMORPH 1-month SPI': 'https://www.cpc.ncep.noaa.gov/products/international/dm/daily/Pacific_CMORPH_SPI_1mo.png',\n",
    "                'CMORPH 1-month SPEI': 'https://www.cpc.ncep.noaa.gov/products/international/dm/daily/Pacific_CMORPH_SPEI_1mo.png',\n",
    "                'Leaky Bucket Model 1-month Surface Runoff Index': 'https://www.cpc.ncep.noaa.gov/products/people/lxu/leaky/smp/SRI1_PacificIslands.png',\n",
    "                'CMORPH 7 Day Precip Total': 'https://www.cpc.ncep.noaa.gov/products/international/drought/precip/img/Total_7day_PacificIslands.png',\n",
    "# 'https://github.ncep.noaa.gov/katie-kowal/pac_isl_maps/blob/main/weeklycmorph.png?raw=true',   \n",
    "               # // https://github.com/katiemkowal/pac_isl_maps/blob/main/weeklycmorph.png?raw=true\n",
    "                'CMORPH 7 Day Precip Anomaly': 'https://www.cpc.ncep.noaa.gov/products/international/drought/precip/img/Anom_7day_PacificIslands.png',\n",
    "                'CMORPH 7 Day SPI': 'https://www.cpc.ncep.noaa.gov/products/international/dm/daily/Pacific_CMORPH_SPI_1wk.png',\n",
    "                'CDAS 7 Day Tmax':  'https://ftp.cpc.ncep.noaa.gov/rshukla/CDAS/CDAS_7dy_Tmax_Ave_CPI.png',\n",
    "                'CDAS 7 Day Tmax Anomaly': 'https://ftp.cpc.ncep.noaa.gov/rshukla/CDAS/CDAS_7dy_Tmax_anom_CPI.png',\n",
    "                'VHI 1km': 'https://www.ncei.noaa.gov/pub/data/nidis/tile/noaa-vhi-1km/{z}/{x}/{y}.png',\n",
    "                'NASA ESI': 'https://www.ncei.noaa.gov/pub/data/nidis/tile/nasa-esi-5km-4wk/{z}/{x}/{y}.png'\n",
    "            },\n",
    "            'Forecast Tools': {\n",
    "                'GEFS Week 1 Precip Total Forecast':  'https://ftp.cpc.ncep.noaa.gov/International/PREPARE_Pacific/subseasonal/gefs_raw/gefs_week1_figures/gefs_week1_precipt.png',\n",
    "                'GEFS Week 1 Precip Anomaly Forecast': 'https://ftp.cpc.ncep.noaa.gov/International/PREPARE_Pacific/subseasonal/gefs_raw/gefs_week1_figures/gefs_week1_precip.png',\n",
    "                'GEFS Week 1 Precip Exceedance Prob (50 mm)': 'https://ftp.cpc.ncep.noaa.gov/International/PREPARE_Pacific/subseasonal/gefs_raw/gefs_week1_figures/gefs_week1_prob_50.png',\n",
    "                'GEFS Week 1 Precip Exceedance Prob (100 mm)': 'https://ftp.cpc.ncep.noaa.gov/International/PREPARE_Pacific/subseasonal/gefs_raw/gefs_week1_figures/gefs_week1_prob_100.png',\n",
    "                'GEFS Week 1 Raw Precip Tercile Prob': 'https://ftp.cpc.ncep.noaa.gov/International/PREPARE_Pacific/subseasonal/gefs_calib/fig_dir/gefs_week_1_raw.png',\n",
    "                'GEFS Week 1 Consolidated Precip Tercile Prob': 'https://ftp.cpc.ncep.noaa.gov/International/PREPARE_Pacific/subseasonal/gefs_calib/fig_dir/gefs_week_1_cons.png',\n",
    "                'GEFS Week 1 Temp Total Forecast': 'https://ftp.cpc.ncep.noaa.gov/International/PREPARE_Pacific/subseasonal/gefs_raw/gefs_week1_figures/gefs_week1_t2mt.png',\n",
    "                'GEFS Week 1 Temp Anomaly Forecast': 'https://ftp.cpc.ncep.noaa.gov/International/PREPARE_Pacific/subseasonal/gefs_raw/gefs_week1_figures/gefs_week1_t2m.png',\n",
    "                'Leaky Bucket Model Evaporative Stress Index Week 1 Forecast': 'https://www.cpc.ncep.noaa.gov/products/people/lxu/leaky/smp/ESI_Week1_PacificIslands.png',\n",
    "                'Leaky Bucket Model Soil Moisture Percentile Week 1 Forecast':'https://www.cpc.ncep.noaa.gov/products/people/lxu/leaky/smp/SMP_Week1_PacificIslands.png',\n",
    "                'Leaky Bucket Model SPI Week 1 Forecast': 'https://www.cpc.ncep.noaa.gov/products/people/lxu/leaky/smp/SPI3_Week1_PacificIslands.png',\n",
    "                'GEFS Week 2 Precip Total':'https://ftp.cpc.ncep.noaa.gov/International/PREPARE_Pacific/subseasonal/gefs_raw/gefs_week2_figures/gefs_week2_precipt.png',\n",
    "                'GEFS Week 2 Precip Anomaly': 'https://ftp.cpc.ncep.noaa.gov/International/PREPARE_Pacific/subseasonal/gefs_raw/gefs_week2_figures/gefs_week2_precip.png',\n",
    "                'GEFS Week 2 Temp Total Forecast': 'https://ftp.cpc.ncep.noaa.gov/International/PREPARE_Pacific/subseasonal/gefs_raw/gefs_week2_figures/gefs_week2_t2mt.png',\n",
    "                'GEFS Week 2 Temp Anomaly Forecast': 'https://ftp.cpc.ncep.noaa.gov/International/PREPARE_Pacific/subseasonal/gefs_raw/gefs_week2_figures/gefs_week2_t2m.png',\n",
    "                'GEFS Week 2 Precip Exceedance Prob (50 mm)': 'https://ftp.cpc.ncep.noaa.gov/International/PREPARE_Pacific/subseasonal/gefs_raw/gefs_week2_figures/gefs_week2_prob_50.png',\n",
    "                'GEFS Week 2 Precip Exceedance Prob (100 mm)': 'https://ftp.cpc.ncep.noaa.gov/International/PREPARE_Pacific/subseasonal/gefs_raw/gefs_week2_figures/gefs_week2_prob_100.png',\n",
    "                'GEFS Week 2 Raw Precip Tercile Prob': 'https://ftp.cpc.ncep.noaa.gov/International/PREPARE_Pacific/subseasonal/gefs_calib/fig_dir/gefs_week_2_raw.png',\n",
    "                'GEFS Week 2 Consolidated Precip Tercile Prob': 'https://ftp.cpc.ncep.noaa.gov/International/PREPARE_Pacific/subseasonal/gefs_calib/fig_dir/gefs_week_2_cons.png',\n",
    "                'NMME 1 Month Precip Anomaly Forecast': 'https://www.cpc.ncep.noaa.gov/products/international/drought/nmme/Multi_Model_Ensemble_Panom_L1_PacificIslands.png',\n",
    "                'NMME 1 Month SPI Forecast': 'https://www.cpc.ncep.noaa.gov/products/international/drought/nmme/Multi_Model_Ensemble_SPI3_L1_PacificIslands.png'\n",
    "            }\n",
    "        }"
   ]
  },
  {
   "cell_type": "code",
   "execution_count": null,
   "id": "d29e1080-1ad4-4ee1-8aee-e32872d4883e",
   "metadata": {},
   "outputs": [],
   "source": [
    "plotf.plot_original_image(spei_path.crop((150, 650, 900, 660)))"
   ]
  },
  {
   "cell_type": "code",
   "execution_count": null,
   "id": "47d8ae14-28e5-4e59-9624-f6c49789efe5",
   "metadata": {},
   "outputs": [],
   "source": [
    "spei_path = Image.open(BytesIO(requests.get(layerlinks['Monitor Tools']['CMORPH 1-month SPEI']).content))\n",
    "spei_colorbar = imagef.convert_image_to_array(spei_path, (150, 650, 900, 660))\n",
    "spei_colors = imagef.calc_unique_colors(spei_colorbar)\n",
    "spei_colors = {imagef.closest_color_category(color, hdict.color_categories): tuple(color.tolist()) for color in spei_colors}\n",
    "pac_cropw = (45,65, 676, 555) #65\n",
    "pac_crope = (676,65, 1004, 555)\n",
    "pac_coordsw = (132, 180, 9, -22) #is 10 \n",
    "pac_coordse = (180, 205, 9, -22)\n",
    "spei_pacw = imagef.convert_image_to_array(spei_path, pac_cropw)\n",
    "spei_pace = imagef.convert_image_to_array(spei_path, pac_crope)\n",
    "spei_pacw = imagef.convert_image_to_coordinates(spei_pacw, pac_coordsw[0], pac_coordsw[1], pac_coordsw[2], pac_coordsw[3])\n",
    "spei_pace = imagef.convert_image_to_coordinates(spei_pace, pac_coordse[0], pac_coordse[1], pac_coordse[2], pac_coordse[3])\n",
    "spei_pac = pd.concat([spei_pacw, spei_pace], ignore_index = True)\n",
    "df_spei_pac = imagef.convert_df_to_reduced_gdf(spei_pac, 1, 1)\n",
    "df_spei_pac = imagef.convert_color(df_spei_pac)\n",
    "df_spei_pac.x = (df_spei_pac.x + 360)%360"
   ]
  },
  {
   "cell_type": "code",
   "execution_count": null,
   "id": "466fde52-f106-4ce7-8374-f4ecdc0c6494",
   "metadata": {},
   "outputs": [],
   "source": [
    "df_spei_pac.plot(color = df_spei_pac['color'])"
   ]
  }
 ],
 "metadata": {
  "kernelspec": {
   "display_name": "map_env",
   "language": "python",
   "name": "map_env"
  },
  "language_info": {
   "codemirror_mode": {
    "name": "ipython",
    "version": 3
   },
   "file_extension": ".py",
   "mimetype": "text/x-python",
   "name": "python",
   "nbconvert_exporter": "python",
   "pygments_lexer": "ipython3",
   "version": "3.9.13"
  }
 },
 "nbformat": 4,
 "nbformat_minor": 5
}
