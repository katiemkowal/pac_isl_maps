{
 "cells": [
  {
   "cell_type": "code",
   "execution_count": null,
   "id": "5642d55c-f46e-469d-8e2f-2a9ffead0b81",
   "metadata": {},
   "outputs": [],
   "source": [
    "### Libraries"
   ]
  },
  {
   "cell_type": "code",
   "execution_count": 4,
   "id": "2dbd2eb9-f477-48ac-9cf2-962ec7f7e202",
   "metadata": {},
   "outputs": [
    {
     "name": "stdout",
     "output_type": "stream",
     "text": [
      "The autoreload extension is already loaded. To reload it, use:\n",
      "  %reload_ext autoreload\n"
     ]
    }
   ],
   "source": [
    "import os\n",
    "from io import BytesIO\n",
    "import requests\n",
    "from datetime import datetime,timedelta\n",
    "import warnings\n",
    "import xarray as xr\n",
    "import io\n",
    "from PIL import Image\n",
    "import numpy as np\n",
    "import matplotlib.pyplot as plt\n",
    "import geopandas as gpd\n",
    "from shapely.geometry import Point, LineString, Polygon, MultiPolygon\n",
    "import pandas as pd\n",
    "import matplotlib.patheffects as path_effects\n",
    "from matplotlib.colors import ListedColormap\n",
    "from matplotlib.colorbar import ColorbarBase\n",
    "import matplotlib.colors as mcolors\n",
    "import image_functions as imagef\n",
    "import plotting_functions as plotf\n",
    "import helper_dicts as hdict\n",
    "import helper_functions as helper\n",
    "%load_ext autoreload\n",
    "%autoreload 2"
   ]
  },
  {
   "cell_type": "code",
   "execution_count": 5,
   "id": "d30f9c61-b439-4832-8f4b-55339562e412",
   "metadata": {},
   "outputs": [],
   "source": [
    "layerlinks = {\n",
    "            'Monitor Tools': {\n",
    "                'OISST SST 7-Day Anomaly': 'https://www.cpc.ncep.noaa.gov/products/international/oisst/oisst_7day_pac_anom.gif',\n",
    "                'OISST SST 7-Day Anomaly Difference': 'https://www.cpc.ncep.noaa.gov/products/international/oisst/oisst_7day_pac_diff.gif',\n",
    "                # 'CMORPH Time Series Points': 'https://www.cpc.ncep.noaa.gov/products/international/zz_CP_Islands/zz_CMORPH_BLD_2nd/CMORPH_BLD_Islands_180day.shtml',\n",
    "                'CMORPH 90 Day Precip Anomaly': 'https://www.cpc.ncep.noaa.gov/products/international/drought/precip/img/Anom_90day_PacificIslands.png',\n",
    "                'CMORPH 90 Day Precip Percent': 'https://www.cpc.ncep.noaa.gov/products/international/drought/precip/img/Perc_90day_PacificIslands.png',\n",
    "                'CMORPH 3-month SPI': 'https://www.cpc.ncep.noaa.gov/products/international/dm/daily/Pacific_CMORPH_SPI_3mo.png',\n",
    "                'CMORPH 3-month SPEI': 'https://www.cpc.ncep.noaa.gov/products/international/dm/daily/Pacific_CMORPH_SPEI_3mo.png',\n",
    "                'CMORPH 30 Day Precip Anomaly': 'https://www.cpc.ncep.noaa.gov/products/international/drought/precip/img/Anom_30day_PacificIslands.png',\n",
    "                'CMORPH 30 Day Precip Percent': 'https://www.cpc.ncep.noaa.gov/products/international/drought/precip/img/Perc_30day_PacificIslands.png',\n",
    "                'CMORPH 1-month SPI': 'https://www.cpc.ncep.noaa.gov/products/international/dm/daily/Pacific_CMORPH_SPI_1mo.png',\n",
    "                'CMORPH 1-month SPEI': 'https://www.cpc.ncep.noaa.gov/products/international/dm/daily/Pacific_CMORPH_SPEI_1mo.png',\n",
    "                'Leaky Bucket Model 1-month Surface Runoff Index': 'https://www.cpc.ncep.noaa.gov/products/people/lxu/leaky/smp/SRI1_PacificIslands.png',\n",
    "                'CMORPH 7 Day Precip Total': 'https://www.cpc.ncep.noaa.gov/products/international/drought/precip/img/Total_7day_PacificIslands.png',\n",
    "                'CMORPH 7 Day Precip Anomaly': 'https://www.cpc.ncep.noaa.gov/products/international/drought/precip/img/Anom_7day_PacificIslands.png',\n",
    "                'CMORPH 7 Day SPI': 'https://www.cpc.ncep.noaa.gov/products/international/dm/daily/Pacific_CMORPH_SPI_1wk.png',\n",
    "                'CDAS 7 Day Tmax':  'https://ftp.cpc.ncep.noaa.gov/rshukla/CDAS/CDAS_7dy_Tmax_Ave_CPI.png',\n",
    "                'CDAS 7 Day Tmax Anomaly': 'https://ftp.cpc.ncep.noaa.gov/rshukla/CDAS/CDAS_7dy_Tmax_anom_CPI.png'\n",
    "                # 'VHI 1km': 'https://www.ncei.noaa.gov/pub/data/nidis/tile/noaa-vhi-1km/{z}/{x}/{y}.png',\n",
    "                # 'NASA ESI': 'https://www.ncei.noaa.gov/pub/data/nidis/tile/nasa-esi-5km-4wk/{z}/{x}/{y}.png'\n",
    "            },\n",
    "            'Forecast Tools': {\n",
    "                'GEFS Week 1 Precip Total Forecast':  'https://ftp.cpc.ncep.noaa.gov/International/PREPARE_Pacific/subseasonal/gefs_raw/gefs_week1_figures/gefs_week1_precipt.png',\n",
    "                'GEFS Week 1 Precip Anomaly Forecast': 'https://ftp.cpc.ncep.noaa.gov/International/PREPARE_Pacific/subseasonal/gefs_raw/gefs_week1_figures/gefs_week1_precip.png',\n",
    "                'GEFS Week 1 Precip Exceedance Prob (50 mm)': 'https://ftp.cpc.ncep.noaa.gov/International/PREPARE_Pacific/subseasonal/gefs_raw/gefs_week1_figures/gefs_week1_prob_50.png',\n",
    "                'GEFS Week 1 Precip Exceedance Prob (100 mm)': 'https://ftp.cpc.ncep.noaa.gov/International/PREPARE_Pacific/subseasonal/gefs_raw/gefs_week1_figures/gefs_week1_prob_100.png',\n",
    "                'GEFS Week 1 Raw Precip Tercile Prob': 'https://ftp.cpc.ncep.noaa.gov/International/PREPARE_Pacific/subseasonal/gefs_calib/fig_dir/gefs_week_1_raw.png',\n",
    "                'GEFS Week 1 Consolidated Precip Tercile Prob': 'https://ftp.cpc.ncep.noaa.gov/International/PREPARE_Pacific/subseasonal/gefs_calib/fig_dir/gefs_week_1_cons.png',\n",
    "                'GEFS Week 1 Temp Total Forecast': 'https://ftp.cpc.ncep.noaa.gov/International/PREPARE_Pacific/subseasonal/gefs_raw/gefs_week1_figures/gefs_week1_t2mt.png',\n",
    "                'GEFS Week 1 Temp Anomaly Forecast': 'https://ftp.cpc.ncep.noaa.gov/International/PREPARE_Pacific/subseasonal/gefs_raw/gefs_week1_figures/gefs_week1_t2m.png',\n",
    "                'Leaky Bucket Model Evaporative Stress Index Week 1 Forecast': 'https://www.cpc.ncep.noaa.gov/products/people/lxu/leaky/smp/ESI_Week1_PacificIslands.png',\n",
    "                'Leaky Bucket Model Soil Moisture Percentile Week 1 Forecast':'https://www.cpc.ncep.noaa.gov/products/people/lxu/leaky/smp/SMP_Week1_PacificIslands.png',\n",
    "                'Leaky Bucket Model SPI Week 1 Forecast': 'https://www.cpc.ncep.noaa.gov/products/people/lxu/leaky/smp/SPI3_Week1_PacificIslands.png',\n",
    "                'GEFS Week 2 Precip Total':'https://ftp.cpc.ncep.noaa.gov/International/PREPARE_Pacific/subseasonal/gefs_raw/gefs_week2_figures/gefs_week2_precipt.png',\n",
    "                'GEFS Week 2 Precip Anomaly': 'https://ftp.cpc.ncep.noaa.gov/International/PREPARE_Pacific/subseasonal/gefs_raw/gefs_week2_figures/gefs_week2_precip.png',\n",
    "                'GEFS Week 2 Temp Total Forecast': 'https://ftp.cpc.ncep.noaa.gov/International/PREPARE_Pacific/subseasonal/gefs_raw/gefs_week2_figures/gefs_week2_t2mt.png',\n",
    "                'GEFS Week 2 Temp Anomaly Forecast': 'https://ftp.cpc.ncep.noaa.gov/International/PREPARE_Pacific/subseasonal/gefs_raw/gefs_week2_figures/gefs_week2_t2m.png',\n",
    "                'GEFS Week 2 Precip Exceedance Prob (50 mm)': 'https://ftp.cpc.ncep.noaa.gov/International/PREPARE_Pacific/subseasonal/gefs_raw/gefs_week2_figures/gefs_week2_prob_50.png',\n",
    "                'GEFS Week 2 Precip Exceedance Prob (100 mm)': 'https://ftp.cpc.ncep.noaa.gov/International/PREPARE_Pacific/subseasonal/gefs_raw/gefs_week2_figures/gefs_week2_prob_100.png',\n",
    "                'GEFS Week 2 Raw Precip Tercile Prob': 'https://ftp.cpc.ncep.noaa.gov/International/PREPARE_Pacific/subseasonal/gefs_calib/fig_dir/gefs_week_2_raw.png',\n",
    "                'GEFS Week 2 Consolidated Precip Tercile Prob': 'https://ftp.cpc.ncep.noaa.gov/International/PREPARE_Pacific/subseasonal/gefs_calib/fig_dir/gefs_week_2_cons.png',\n",
    "                'NMME 1 Month Precip Anomaly Forecast': 'https://www.cpc.ncep.noaa.gov/products/international/drought/nmme/Multi_Model_Ensemble_Panom_L1_PacificIslands.png',\n",
    "                'NMME 1 Month SPI Forecast': 'https://www.cpc.ncep.noaa.gov/products/international/drought/nmme/Multi_Model_Ensemble_SPI3_L1_PacificIslands.png'\n",
    "            }\n",
    "        }\n",
    "\n",
    "monitor_save = ['oisst', 'oisst_diff', 'cmorph90anom', 'cmorph90percent', 'cmorph3mospi', 'cmorph3mospei', 'cmorph30panom', 'cmorph30ppercent',\n",
    "                'cmorph1mospi', 'cmorph1mospei', 'lbm1mosri', 'cmorph7ptotal', 'cmorph7panom', 'cmorph7spi', 'cdas7tmax', 'cdas7tanom']\n",
    "fcst_save = ['gefswk1ptotal', 'gefswk1panom', 'gefswk1poe50', 'gefswk1poe100', 'gefswk1rawter', 'gefswk1conster', \n",
    "             'gefswk1ttotal', 'gefswk1tanom', 'lbmwk1esi', 'lbmwk1smp', 'lbmwk1spi', 'gefswk2ptotal', 'gefswk2panom', 'gefswk2ttotal', 'gefswk2tanom',\n",
    "             'gefswk2poe50', 'gefswk2poe100', 'gefswk2rawter', 'gefswk2conster', 'nmme1mopanom', 'nmme1mospi']"
   ]
  },
  {
   "cell_type": "code",
   "execution_count": 6,
   "id": "d29e1080-1ad4-4ee1-8aee-e32872d4883e",
   "metadata": {},
   "outputs": [
    {
     "name": "stdout",
     "output_type": "stream",
     "text": [
      "OISST SST 7-Day Anomaly\n"
     ]
    },
    {
     "ename": "NameError",
     "evalue": "name 'os' is not defined",
     "output_type": "error",
     "traceback": [
      "\u001b[0;31m---------------------------------------------------------------------------\u001b[0m",
      "\u001b[0;31mNameError\u001b[0m                                 Traceback (most recent call last)",
      "Input \u001b[0;32mIn [6]\u001b[0m, in \u001b[0;36m<cell line: 48>\u001b[0;34m()\u001b[0m\n\u001b[1;32m     45\u001b[0m            cropped_image \u001b[38;5;241m=\u001b[39m cropped_image\u001b[38;5;241m.\u001b[39mconvert(\u001b[38;5;124m'\u001b[39m\u001b[38;5;124mRGBA\u001b[39m\u001b[38;5;124m'\u001b[39m)  \u001b[38;5;66;03m# Convert for transparency, or 'RGB' if transparency isn't needed\u001b[39;00m\n\u001b[1;32m     46\u001b[0m         plotf\u001b[38;5;241m.\u001b[39msave_image(cropped_image, save_names[k] \u001b[38;5;241m+\u001b[39m \u001b[38;5;124m'\u001b[39m\u001b[38;5;124m_\u001b[39m\u001b[38;5;124m'\u001b[39m \u001b[38;5;241m+\u001b[39m fig_type, figure_dir)\n\u001b[0;32m---> 48\u001b[0m \u001b[43mcrop_image_for_leaflet\u001b[49m\u001b[43m(\u001b[49m\u001b[43mlayerlinks\u001b[49m\u001b[43m[\u001b[49m\u001b[38;5;124;43m'\u001b[39;49m\u001b[38;5;124;43mMonitor Tools\u001b[39;49m\u001b[38;5;124;43m'\u001b[39;49m\u001b[43m]\u001b[49m\u001b[43m,\u001b[49m\u001b[43m \u001b[49m\u001b[43mlegend_crop_monitors\u001b[49m\u001b[43m,\u001b[49m\u001b[43m \u001b[49m\u001b[43mmonitor_save\u001b[49m\u001b[43m,\u001b[49m\u001b[43m \u001b[49m\u001b[38;5;124;43m'\u001b[39;49m\u001b[38;5;124;43mlegend\u001b[39;49m\u001b[38;5;124;43m'\u001b[39;49m\u001b[43m,\u001b[49m\u001b[43m \u001b[49m\u001b[43mfigure_dir\u001b[49m\u001b[43m)\u001b[49m\n\u001b[1;32m     49\u001b[0m crop_image_for_leaflet(layerlinks[\u001b[38;5;124m'\u001b[39m\u001b[38;5;124mForecast Tools\u001b[39m\u001b[38;5;124m'\u001b[39m], legend_crop_fcsts, fcst_save, \u001b[38;5;124m'\u001b[39m\u001b[38;5;124mlegend\u001b[39m\u001b[38;5;124m'\u001b[39m, figure_dir)\n\u001b[1;32m     50\u001b[0m crop_image_for_leaflet(layerlinks[\u001b[38;5;124m'\u001b[39m\u001b[38;5;124mMonitor Tools\u001b[39m\u001b[38;5;124m'\u001b[39m], crop_monitors, monitor_save, \u001b[38;5;124m'\u001b[39m\u001b[38;5;124mdata\u001b[39m\u001b[38;5;124m'\u001b[39m, figure_dir)\n",
      "Input \u001b[0;32mIn [6]\u001b[0m, in \u001b[0;36mcrop_image_for_leaflet\u001b[0;34m(layerlink_cat, crops, save_names, fig_type, figure_dir)\u001b[0m\n\u001b[1;32m     44\u001b[0m \u001b[38;5;28;01mif\u001b[39;00m cropped_image\u001b[38;5;241m.\u001b[39mmode \u001b[38;5;129;01min\u001b[39;00m (\u001b[38;5;124m'\u001b[39m\u001b[38;5;124mRGBA\u001b[39m\u001b[38;5;124m'\u001b[39m, \u001b[38;5;124m'\u001b[39m\u001b[38;5;124mLA\u001b[39m\u001b[38;5;124m'\u001b[39m) \u001b[38;5;129;01mor\u001b[39;00m (cropped_image\u001b[38;5;241m.\u001b[39mmode \u001b[38;5;241m==\u001b[39m \u001b[38;5;124m'\u001b[39m\u001b[38;5;124mP\u001b[39m\u001b[38;5;124m'\u001b[39m \u001b[38;5;129;01mand\u001b[39;00m \u001b[38;5;124m'\u001b[39m\u001b[38;5;124mtransparency\u001b[39m\u001b[38;5;124m'\u001b[39m \u001b[38;5;129;01min\u001b[39;00m cropped_image\u001b[38;5;241m.\u001b[39minfo):\n\u001b[1;32m     45\u001b[0m    cropped_image \u001b[38;5;241m=\u001b[39m cropped_image\u001b[38;5;241m.\u001b[39mconvert(\u001b[38;5;124m'\u001b[39m\u001b[38;5;124mRGBA\u001b[39m\u001b[38;5;124m'\u001b[39m)  \u001b[38;5;66;03m# Convert for transparency, or 'RGB' if transparency isn't needed\u001b[39;00m\n\u001b[0;32m---> 46\u001b[0m \u001b[43mplotf\u001b[49m\u001b[38;5;241;43m.\u001b[39;49m\u001b[43msave_image\u001b[49m\u001b[43m(\u001b[49m\u001b[43mcropped_image\u001b[49m\u001b[43m,\u001b[49m\u001b[43m \u001b[49m\u001b[43msave_names\u001b[49m\u001b[43m[\u001b[49m\u001b[43mk\u001b[49m\u001b[43m]\u001b[49m\u001b[43m \u001b[49m\u001b[38;5;241;43m+\u001b[39;49m\u001b[43m \u001b[49m\u001b[38;5;124;43m'\u001b[39;49m\u001b[38;5;124;43m_\u001b[39;49m\u001b[38;5;124;43m'\u001b[39;49m\u001b[43m \u001b[49m\u001b[38;5;241;43m+\u001b[39;49m\u001b[43m \u001b[49m\u001b[43mfig_type\u001b[49m\u001b[43m,\u001b[49m\u001b[43m \u001b[49m\u001b[43mfigure_dir\u001b[49m\u001b[43m)\u001b[49m\n",
      "File \u001b[0;32m/cpc/int_desk/pac_isl/stations/plotting_functions.py:45\u001b[0m, in \u001b[0;36msave_image\u001b[0;34m(image, name, folder)\u001b[0m\n\u001b[1;32m     43\u001b[0m ax\u001b[38;5;241m.\u001b[39mimshow(image)\n\u001b[1;32m     44\u001b[0m ax\u001b[38;5;241m.\u001b[39maxis(\u001b[38;5;124m'\u001b[39m\u001b[38;5;124moff\u001b[39m\u001b[38;5;124m'\u001b[39m)  \u001b[38;5;66;03m# Hide axis labels\u001b[39;00m\n\u001b[0;32m---> 45\u001b[0m plt\u001b[38;5;241m.\u001b[39msavefig(\u001b[43mos\u001b[49m\u001b[38;5;241m.\u001b[39mpath\u001b[38;5;241m.\u001b[39mjoin(folder, name \u001b[38;5;241m+\u001b[39m \u001b[38;5;124m'\u001b[39m\u001b[38;5;124m.png\u001b[39m\u001b[38;5;124m'\u001b[39m), bbox_inches \u001b[38;5;241m=\u001b[39m \u001b[38;5;124m'\u001b[39m\u001b[38;5;124mtight\u001b[39m\u001b[38;5;124m'\u001b[39m, pad_inches \u001b[38;5;241m=\u001b[39m \u001b[38;5;241m0\u001b[39m)\n\u001b[1;32m     46\u001b[0m plt\u001b[38;5;241m.\u001b[39mshow()\n",
      "\u001b[0;31mNameError\u001b[0m: name 'os' is not defined"
     ]
    },
    {
     "data": {
      "image/png": "[encoded data removed]",
      "text/plain": [
       "<Figure size 640x480 with 1 Axes>"
      ]
     },
     "metadata": {},
     "output_type": "display_data"
    }
   ],
   "source": [
    "figure_dir = '/cpc/int_desk/pac_isl/stations/images'\n",
    "legend_crop_monitors = [(150, 1420, 2350,1475), (150, 1420, 2350,1475), #oisst\n",
    "                        (90, 600, 920, 630),  (90, 600, 920, 630), #cmorph 90\n",
    "                        (150, 650, 890, 695), (150, 650, 885, 683), #cmorph 3mo spi, spei\n",
    "                        (90, 600, 920, 630), (90, 600, 920, 630), #cmorph 30\n",
    "                        (150, 650, 890, 695), (150, 650, 885, 683), #cmorph 1mo spi, spei\n",
    "                        (55, 580, 885, 630),  #lbm sri,\n",
    "                        (90, 600, 920, 630),  (90, 600, 920, 630), #cmorph 90\n",
    "                        (150, 650, 890, 695), #cmorph 7day spi\n",
    "                       (20, 435, 755, 470),  (20, 435, 755, 470)] #cdas 7\n",
    "legend_crop_fcsts = [(35, 360, 590, 400), (35, 360, 590, 400), (35, 360, 590, 400), (35, 360, 590, 400), #wk1 panom, total, poes\n",
    "                     (110, 820, 1760, 980),  (110, 820, 1760, 990), #terc forecasts\n",
    "             (35, 360, 590, 400), (35, 360, 590, 400), #gefswk1 tanom, total\n",
    "                    (55, 580, 885, 630), (55, 580, 885, 630), (55, 580, 885, 630), #lbm\n",
    "                     (35, 360, 590, 400), (35, 360, 590, 400), (35, 360, 590, 400), (35, 360, 590, 400), #wk2 p and t\n",
    "            (35, 360, 590, 400), (35, 360, 590, 400), #wk 2 poe\n",
    "                     (120, 820, 1760, 980),  (120, 820, 1760, 990), \n",
    "                    (90, 600, 920, 630), (90, 600, 920, 630)]#nmme fcsts\n",
    "\n",
    "crop_monitors = [(148, 250, 2247, 1300), (148, 250, 2247, 1300),#(148, 151, 2247,1377), (148, 151, 2247,1377), #oisst\n",
    "                        (42, 76, 971, 535),  (42, 76, 971, 535), #cmorph 90\n",
    "                        (56, 76, 1014, 568), (56, 76, 1004, 554), #cmorph 3mo spi, spei\n",
    "                        (42, 76, 971, 535), (42, 76, 971, 535), #cmorph 30\n",
    "                        (56, 76, 1014, 568), (56, 76, 1004, 554), #cmorph 1mo spi, spei\n",
    "                        (43, 89, 878, 502),  #lbm sri,\n",
    "                        (42, 76, 971, 535),  (42, 76, 971, 535), #cmorph 7\n",
    "                        (56, 76, 1014, 568), #cmorph 7day spi\n",
    "                       (26, 39, 751, 409),  (26, 43, 751, 409)] #cdas 7\n",
    "\n",
    "crop_fcsts = [(46, 63, 588, 339),  (46, 63, 588, 339), (46, 63, 588, 338), (46, 63, 588, 338), #wk1 panom, total, poes\n",
    "                     (121, 62, 1745, 757),  (131, 75, 1755, 767), #terc forecasts\n",
    "             (46, 63, 588, 338), (46, 63, 588, 338), #gefswk1 tanom, total\n",
    "                    (43, 87, 878, 500), (43, 87, 878, 500), (43, 87, 878, 500), #lbm\n",
    "                     (46, 63, 588, 339), (46, 63, 588, 339), (46, 63, 588, 338), (46, 63, 588, 338), #wk2 p and t\n",
    "            (46, 63, 588, 338), (46, 63, 588, 338), #wk 2 poe\n",
    "                    (121, 62, 1745, 757),  (131, 75, 1755, 767), \n",
    "                   (41, 73, 970, 532), (41, 73, 970, 532)]#nmme fcsts\n",
    "\n",
    "def crop_image_for_leaflet(layerlink_cat, crops, save_names, fig_type, figure_dir):\n",
    "    for k, key in enumerate(layerlink_cat):\n",
    "        print(key)\n",
    "        path = Image.open(BytesIO(requests.get(layerlink_cat[key]).content))\n",
    "        cropped_image = path.crop(crops[k])\n",
    "        if cropped_image.mode in ('RGBA', 'LA') or (cropped_image.mode == 'P' and 'transparency' in cropped_image.info):\n",
    "           cropped_image = cropped_image.convert('RGBA')  # Convert for transparency, or 'RGB' if transparency isn't needed\n",
    "        plotf.save_image(cropped_image, save_names[k] + '_' + fig_type, figure_dir)\n",
    "        \n",
    "crop_image_for_leaflet(layerlinks['Monitor Tools'], legend_crop_monitors, monitor_save, 'legend', figure_dir)\n",
    "crop_image_for_leaflet(layerlinks['Forecast Tools'], legend_crop_fcsts, fcst_save, 'legend', figure_dir)\n",
    "crop_image_for_leaflet(layerlinks['Monitor Tools'], crop_monitors, monitor_save, 'data', figure_dir)\n",
    "crop_image_for_leaflet(layerlinks['Forecast Tools'], crop_fcsts, fcst_save, 'data', figure_dir)"
   ]
  },
  {
   "cell_type": "code",
   "execution_count": null,
   "id": "47d8ae14-28e5-4e59-9624-f6c49789efe5",
   "metadata": {},
   "outputs": [],
   "source": [
    "# spei_path = Image.open(BytesIO(requests.get(layerlinks['Monitor Tools']['CMORPH 1-month SPEI']).content))\n",
    "# spei_colorbar = imagef.convert_image_to_array(spei_path, (150, 650, 900, 660))\n",
    "# spei_colors = imagef.calc_unique_colors(spei_colorbar)\n",
    "# spei_colors = {imagef.closest_color_category(color, hdict.color_categories): tuple(color.tolist()) for color in spei_colors}\n",
    "# pac_cropw = (45,65, 676, 555) #65\n",
    "# pac_crope = (676,65, 1004, 555)\n",
    "# pac_coordsw = (132, 180, 9, -22) #is 10 \n",
    "# pac_coordse = (180, 205, 9, -22)\n",
    "# spei_pacw = imagef.convert_image_to_array(spei_path, pac_cropw)\n",
    "# spei_pace = imagef.convert_image_to_array(spei_path, pac_crope)\n",
    "# spei_pacw = imagef.convert_image_to_coordinates(spei_pacw, pac_coordsw[0], pac_coordsw[1], pac_coordsw[2], pac_coordsw[3])\n",
    "# spei_pace = imagef.convert_image_to_coordinates(spei_pace, pac_coordse[0], pac_coordse[1], pac_coordse[2], pac_coordse[3])\n",
    "# spei_pac = pd.concat([spei_pacw, spei_pace], ignore_index = True)\n",
    "# df_spei_pac = imagef.convert_df_to_reduced_gdf(spei_pac, 1, 1)\n",
    "# df_spei_pac = imagef.convert_color(df_spei_pac)\n",
    "# df_spei_pac.x = (df_spei_pac.x + 360)%360"
   ]
  },
  {
   "cell_type": "code",
   "execution_count": null,
   "id": "466fde52-f106-4ce7-8374-f4ecdc0c6494",
   "metadata": {},
   "outputs": [],
   "source": [
    "# df_spei_pac.plot(color = df_spei_pac['color'])"
   ]
  }
 ],
 "metadata": {
  "kernelspec": {
   "display_name": "map_env",
   "language": "python",
   "name": "map_env"
  },
  "language_info": {
   "codemirror_mode": {
    "name": "ipython",
    "version": 3
   },
   "file_extension": ".py",
   "mimetype": "text/x-python",
   "name": "python",
   "nbconvert_exporter": "python",
   "pygments_lexer": "ipython3",
   "version": "3.9.13"
  }
 },
 "nbformat": 4,
 "nbformat_minor": 5
}
